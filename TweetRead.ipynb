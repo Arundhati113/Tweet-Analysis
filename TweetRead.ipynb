{
  "nbformat": 4,
  "nbformat_minor": 0,
  "metadata": {
    "colab": {
      "name": "TweetRead.ipynb",
      "provenance": []
    },
    "kernelspec": {
      "name": "python3",
      "display_name": "Python 3"
    }
  },
  "cells": [
    {
      "cell_type": "code",
      "metadata": {
        "id": "cUK4dfD4QrUb"
      },
      "source": [
        "import tweepy"
      ],
      "execution_count": null,
      "outputs": []
    },
    {
      "cell_type": "code",
      "metadata": {
        "id": "__Yoz-nIQw2H"
      },
      "source": [
        "from tweepy.auth import OAuthHandler"
      ],
      "execution_count": null,
      "outputs": []
    },
    {
      "cell_type": "code",
      "metadata": {
        "id": "IhinmWrFQ17z"
      },
      "source": [
        "from tweepy import Stream\n",
        "from tweepy.streaming import StreamListener\n",
        "import socket\n",
        "import json"
      ],
      "execution_count": null,
      "outputs": []
    },
    {
      "cell_type": "code",
      "metadata": {
        "id": "-9axtEc4RSqe"
      },
      "source": [
        "ACCESS_TOKEN = '1334228279541161984-z2EEa1hGncOhBIjpcf5JgU3BNz2YOX'\n",
        "ACCESS_SECRET = 'VBdxTfsgsKrlRepJnd3jEChbUFlab66FekUIH99bR5KhV'\n",
        "CONSUMER_KEY = 'wGY12mHOm6XTZoxSA1T3O14t4'\n",
        "CONSUMER_SECRET = 'Phyv0Vag6zEE1CazulnmIzt3VAcQGr8BAR48NvhP2qpsbXzc5R'"
      ],
      "execution_count": null,
      "outputs": []
    },
    {
      "cell_type": "code",
      "metadata": {
        "id": "uQ1NF_f1RiIH"
      },
      "source": [
        "class TweetsListener(StreamListener):\n",
        "  def __init__(self,csocket):\n",
        "    self.client_socket=csocket\n",
        "  def on_data(self,data):\n",
        "    try:\n",
        "      msg=json.loads(data)\n",
        "      print(msg['text'].encode('utf-8'))\n",
        "      self.client_socket.send(msg['text'].encode('utf-8'))\n",
        "      return True\n",
        "    except BaseException as e:\n",
        "      print(\"Error on_data:%s\" % str(e))\n",
        "    return True\n",
        "  def on_error(self,status):\n",
        "    print(status)\n",
        "    return True"
      ],
      "execution_count": null,
      "outputs": []
    },
    {
      "cell_type": "code",
      "metadata": {
        "id": "VpGAwFtFSgdw"
      },
      "source": [
        "def sendData(c_socket):\n",
        "  auth=OAuthHandler(CONSUMER_KEY,CONSUMER_SECRET)\n",
        "  auth.set_access_token(ACCESS_TOKEN,ACCESS_SECRET)\n",
        "  twitter_stream=Stream(auth,TweetsListener(c_socket))\n",
        "  twitter_stream.filter(track=['corona'])"
      ],
      "execution_count": null,
      "outputs": []
    },
    {
      "cell_type": "code",
      "metadata": {
        "colab": {
          "base_uri": "https://localhost:8080/",
          "height": 229
        },
        "id": "ylhzv6jeTCch",
        "outputId": "d0a1026a-72ef-4219-bdce-0b17ce671d5c"
      },
      "source": [
        "if __name__==\"__main__\"\n",
        " s=socket.socket()\n",
        " host=\"127.0.0.1\"\n",
        " port=5555\n",
        " s.bind((host,port))\n",
        " print(\"Listening on port: %s\" % str(port))\n",
        " s.listen(5)\n",
        " c,addr=s.accept()\n",
        " print(\"Received request from \"+ str(addr))\n",
        " sendData(c)"
      ],
      "execution_count": null,
      "outputs": [
        {
          "output_type": "error",
          "ename": "NameError",
          "evalue": "ignored",
          "traceback": [
            "\u001b[0;31m---------------------------------------------------------------------------\u001b[0m",
            "\u001b[0;31mNameError\u001b[0m                                 Traceback (most recent call last)",
            "\u001b[0;32m<ipython-input-7-75fb42745aa8>\u001b[0m in \u001b[0;36m<module>\u001b[0;34m()\u001b[0m\n\u001b[0;32m----> 1\u001b[0;31m \u001b[0ms\u001b[0m\u001b[0;34m=\u001b[0m\u001b[0msocket\u001b[0m\u001b[0;34m.\u001b[0m\u001b[0msocket\u001b[0m\u001b[0;34m(\u001b[0m\u001b[0;34m)\u001b[0m\u001b[0;34m\u001b[0m\u001b[0;34m\u001b[0m\u001b[0m\n\u001b[0m\u001b[1;32m      2\u001b[0m \u001b[0mhost\u001b[0m\u001b[0;34m=\u001b[0m\u001b[0;34m\"127.0.0.1\"\u001b[0m\u001b[0;34m\u001b[0m\u001b[0;34m\u001b[0m\u001b[0m\n\u001b[1;32m      3\u001b[0m \u001b[0mport\u001b[0m\u001b[0;34m=\u001b[0m\u001b[0;36m8029\u001b[0m\u001b[0;34m\u001b[0m\u001b[0;34m\u001b[0m\u001b[0m\n\u001b[1;32m      4\u001b[0m \u001b[0ms\u001b[0m\u001b[0;34m.\u001b[0m\u001b[0mbind\u001b[0m\u001b[0;34m(\u001b[0m\u001b[0;34m(\u001b[0m\u001b[0mhost\u001b[0m\u001b[0;34m,\u001b[0m\u001b[0mport\u001b[0m\u001b[0;34m)\u001b[0m\u001b[0;34m)\u001b[0m\u001b[0;34m\u001b[0m\u001b[0;34m\u001b[0m\u001b[0m\n\u001b[1;32m      5\u001b[0m \u001b[0mprint\u001b[0m\u001b[0;34m(\u001b[0m\u001b[0;34m\"Listening on port: %s\"\u001b[0m \u001b[0;34m%\u001b[0m \u001b[0mstr\u001b[0m\u001b[0;34m(\u001b[0m\u001b[0mport\u001b[0m\u001b[0;34m)\u001b[0m\u001b[0;34m)\u001b[0m\u001b[0;34m\u001b[0m\u001b[0;34m\u001b[0m\u001b[0m\n",
            "\u001b[0;31mNameError\u001b[0m: name 'socket' is not defined"
          ]
        }
      ]
    }
  ]
}